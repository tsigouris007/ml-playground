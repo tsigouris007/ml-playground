{
 "cells": [
  {
   "cell_type": "code",
   "execution_count": 1,
   "id": "ab82fa2d-7e45-46bb-bb48-e9a08f6bc41e",
   "metadata": {},
   "outputs": [],
   "source": [
    "import numpy as np"
   ]
  },
  {
   "cell_type": "markdown",
   "id": "826faea9-40fb-4aaf-8ed3-b26e36d54dea",
   "metadata": {},
   "source": [
    "## DataTypes & Attributes"
   ]
  },
  {
   "cell_type": "markdown",
   "id": "436fe943-55e2-414d-a38f-f0182f4b0dc4",
   "metadata": {},
   "source": [
    "### Numpy's main datatype is `ndarray`"
   ]
  },
  {
   "cell_type": "code",
   "execution_count": 2,
   "id": "87e94e38-2d6f-4347-b97e-8c19afd18b37",
   "metadata": {},
   "outputs": [
    {
     "name": "stdout",
     "output_type": "stream",
     "text": [
      "[1 2 3]\n"
     ]
    },
    {
     "data": {
      "text/plain": [
       "numpy.ndarray"
      ]
     },
     "execution_count": 2,
     "metadata": {},
     "output_type": "execute_result"
    }
   ],
   "source": [
    "a1 = np.array([1, 2, 3])\n",
    "print(a1)\n",
    "type(a1)"
   ]
  },
  {
   "cell_type": "code",
   "execution_count": 3,
   "id": "e9f4137b-19a9-4407-93ef-153b76f1b9bc",
   "metadata": {},
   "outputs": [
    {
     "name": "stdout",
     "output_type": "stream",
     "text": [
      "[[1 2 3]\n",
      " [4 5 6]]\n"
     ]
    },
    {
     "data": {
      "text/plain": [
       "numpy.ndarray"
      ]
     },
     "execution_count": 3,
     "metadata": {},
     "output_type": "execute_result"
    }
   ],
   "source": [
    "a2 = np.array(\n",
    "    [\n",
    "        [1, 2, 3],\n",
    "        [4, 5, 6]\n",
    "    ]\n",
    ")\n",
    "print(a2)\n",
    "type(a2)"
   ]
  },
  {
   "cell_type": "code",
   "execution_count": 4,
   "id": "02f0c210-d6b7-4092-9d99-d22c0f97f6dd",
   "metadata": {},
   "outputs": [
    {
     "name": "stdout",
     "output_type": "stream",
     "text": [
      "[[[ 1  2  3  4]\n",
      "  [ 5  6  7  8]\n",
      "  [ 9 10 11 12]]\n",
      "\n",
      " [[13 14 15 16]\n",
      "  [17 18 19 20]\n",
      "  [21 22 23 24]]]\n"
     ]
    },
    {
     "data": {
      "text/plain": [
       "numpy.ndarray"
      ]
     },
     "execution_count": 4,
     "metadata": {},
     "output_type": "execute_result"
    }
   ],
   "source": [
    "a3 = np.array(\n",
    "    [\n",
    "        [\n",
    "            [1, 2, 3, 4],\n",
    "            [5, 6, 7, 8],\n",
    "            [9, 10, 11, 12]\n",
    "        ],\n",
    "        [\n",
    "            [13, 14, 15, 16],\n",
    "            [17, 18, 19, 20],\n",
    "            [21, 22, 23, 24]\n",
    "        ]\n",
    "    ]\n",
    ")\n",
    "print(a3)\n",
    "type(a3)"
   ]
  },
  {
   "cell_type": "code",
   "execution_count": 5,
   "id": "4c5afc6a-2b3a-4f21-ae4b-679dcd928cae",
   "metadata": {},
   "outputs": [
    {
     "data": {
      "text/plain": [
       "(3,)"
      ]
     },
     "execution_count": 5,
     "metadata": {},
     "output_type": "execute_result"
    }
   ],
   "source": [
    "a1.shape"
   ]
  },
  {
   "cell_type": "code",
   "execution_count": 6,
   "id": "7f12556f-8383-4e28-b394-388c20fedd0c",
   "metadata": {},
   "outputs": [
    {
     "data": {
      "text/plain": [
       "(2, 3)"
      ]
     },
     "execution_count": 6,
     "metadata": {},
     "output_type": "execute_result"
    }
   ],
   "source": [
    "a2.shape"
   ]
  },
  {
   "cell_type": "code",
   "execution_count": 7,
   "id": "4d872a8b-78d2-4de6-b614-2570cd57afd6",
   "metadata": {},
   "outputs": [
    {
     "data": {
      "text/plain": [
       "(2, 3, 4)"
      ]
     },
     "execution_count": 7,
     "metadata": {},
     "output_type": "execute_result"
    }
   ],
   "source": [
    "a3.shape"
   ]
  },
  {
   "cell_type": "code",
   "execution_count": 8,
   "id": "789caa2b-d060-4fde-9119-177d5cf182ae",
   "metadata": {},
   "outputs": [
    {
     "data": {
      "text/plain": [
       "1"
      ]
     },
     "execution_count": 8,
     "metadata": {},
     "output_type": "execute_result"
    }
   ],
   "source": [
    "a1.ndim"
   ]
  },
  {
   "cell_type": "code",
   "execution_count": 9,
   "id": "faba32d2-bb26-4245-b0d2-066db654a4d5",
   "metadata": {},
   "outputs": [
    {
     "data": {
      "text/plain": [
       "2"
      ]
     },
     "execution_count": 9,
     "metadata": {},
     "output_type": "execute_result"
    }
   ],
   "source": [
    "a2.ndim"
   ]
  },
  {
   "cell_type": "code",
   "execution_count": 10,
   "id": "40f13208-c696-42d5-9c26-9cada5fcfdae",
   "metadata": {},
   "outputs": [
    {
     "data": {
      "text/plain": [
       "3"
      ]
     },
     "execution_count": 10,
     "metadata": {},
     "output_type": "execute_result"
    }
   ],
   "source": [
    "a3.ndim"
   ]
  },
  {
   "cell_type": "code",
   "execution_count": 11,
   "id": "1329e63c-4556-44bf-8dbe-8ad4b3a34912",
   "metadata": {},
   "outputs": [
    {
     "data": {
      "text/plain": [
       "(dtype('int32'), dtype('int32'), dtype('int32'))"
      ]
     },
     "execution_count": 11,
     "metadata": {},
     "output_type": "execute_result"
    }
   ],
   "source": [
    "a1.dtype, a2.dtype, a3.dtype"
   ]
  },
  {
   "cell_type": "code",
   "execution_count": 12,
   "id": "144981f5-f9c2-420c-b728-2ff2efa2f8e9",
   "metadata": {},
   "outputs": [
    {
     "data": {
      "text/plain": [
       "(3, 6, 24)"
      ]
     },
     "execution_count": 12,
     "metadata": {},
     "output_type": "execute_result"
    }
   ],
   "source": [
    "a1.size, a2.size, a3.size"
   ]
  },
  {
   "cell_type": "code",
   "execution_count": 13,
   "id": "4cb69cf3-d760-43d0-9d9a-524db5efbac2",
   "metadata": {},
   "outputs": [],
   "source": [
    "import pandas as pd"
   ]
  },
  {
   "cell_type": "code",
   "execution_count": 14,
   "id": "24179e36-5ed0-450e-9eea-1193926bafa9",
   "metadata": {},
   "outputs": [
    {
     "data": {
      "text/html": [
       "<div>\n",
       "<style scoped>\n",
       "    .dataframe tbody tr th:only-of-type {\n",
       "        vertical-align: middle;\n",
       "    }\n",
       "\n",
       "    .dataframe tbody tr th {\n",
       "        vertical-align: top;\n",
       "    }\n",
       "\n",
       "    .dataframe thead th {\n",
       "        text-align: right;\n",
       "    }\n",
       "</style>\n",
       "<table border=\"1\" class=\"dataframe\">\n",
       "  <thead>\n",
       "    <tr style=\"text-align: right;\">\n",
       "      <th></th>\n",
       "      <th>0</th>\n",
       "    </tr>\n",
       "  </thead>\n",
       "  <tbody>\n",
       "    <tr>\n",
       "      <th>0</th>\n",
       "      <td>1</td>\n",
       "    </tr>\n",
       "    <tr>\n",
       "      <th>1</th>\n",
       "      <td>2</td>\n",
       "    </tr>\n",
       "    <tr>\n",
       "      <th>2</th>\n",
       "      <td>3</td>\n",
       "    </tr>\n",
       "  </tbody>\n",
       "</table>\n",
       "</div>"
      ],
      "text/plain": [
       "   0\n",
       "0  1\n",
       "1  2\n",
       "2  3"
      ]
     },
     "execution_count": 14,
     "metadata": {},
     "output_type": "execute_result"
    }
   ],
   "source": [
    "df = pd.DataFrame(a1)\n",
    "df"
   ]
  },
  {
   "cell_type": "code",
   "execution_count": 15,
   "id": "3a713780-eac0-4487-81ef-f675c04218b0",
   "metadata": {},
   "outputs": [
    {
     "data": {
      "text/html": [
       "<div>\n",
       "<style scoped>\n",
       "    .dataframe tbody tr th:only-of-type {\n",
       "        vertical-align: middle;\n",
       "    }\n",
       "\n",
       "    .dataframe tbody tr th {\n",
       "        vertical-align: top;\n",
       "    }\n",
       "\n",
       "    .dataframe thead th {\n",
       "        text-align: right;\n",
       "    }\n",
       "</style>\n",
       "<table border=\"1\" class=\"dataframe\">\n",
       "  <thead>\n",
       "    <tr style=\"text-align: right;\">\n",
       "      <th></th>\n",
       "      <th>0</th>\n",
       "      <th>1</th>\n",
       "      <th>2</th>\n",
       "    </tr>\n",
       "  </thead>\n",
       "  <tbody>\n",
       "    <tr>\n",
       "      <th>0</th>\n",
       "      <td>1</td>\n",
       "      <td>2</td>\n",
       "      <td>3</td>\n",
       "    </tr>\n",
       "    <tr>\n",
       "      <th>1</th>\n",
       "      <td>4</td>\n",
       "      <td>5</td>\n",
       "      <td>6</td>\n",
       "    </tr>\n",
       "  </tbody>\n",
       "</table>\n",
       "</div>"
      ],
      "text/plain": [
       "   0  1  2\n",
       "0  1  2  3\n",
       "1  4  5  6"
      ]
     },
     "execution_count": 15,
     "metadata": {},
     "output_type": "execute_result"
    }
   ],
   "source": [
    "df = pd.DataFrame(a2)\n",
    "df"
   ]
  },
  {
   "cell_type": "code",
   "execution_count": 16,
   "id": "a23dd775-ade7-4cbd-bf50-1cd214e85600",
   "metadata": {},
   "outputs": [
    {
     "ename": "ValueError",
     "evalue": "Must pass 2-d input. shape=(2, 3, 4)",
     "output_type": "error",
     "traceback": [
      "\u001b[1;31m---------------------------------------------------------------------------\u001b[0m",
      "\u001b[1;31mValueError\u001b[0m                                Traceback (most recent call last)",
      "Cell \u001b[1;32mIn[16], line 2\u001b[0m\n\u001b[0;32m      1\u001b[0m \u001b[38;5;66;03m# This will not work as DataFrame needs a 2d array\u001b[39;00m\n\u001b[1;32m----> 2\u001b[0m df \u001b[38;5;241m=\u001b[39m pd\u001b[38;5;241m.\u001b[39mDataFrame(a3)\n\u001b[0;32m      3\u001b[0m df\n",
      "File \u001b[1;32m~\\git\\test\\conda_test\\env\\Lib\\site-packages\\pandas\\core\\frame.py:827\u001b[0m, in \u001b[0;36mDataFrame.__init__\u001b[1;34m(self, data, index, columns, dtype, copy)\u001b[0m\n\u001b[0;32m    816\u001b[0m         mgr \u001b[38;5;241m=\u001b[39m dict_to_mgr(\n\u001b[0;32m    817\u001b[0m             \u001b[38;5;66;03m# error: Item \"ndarray\" of \"Union[ndarray, Series, Index]\" has no\u001b[39;00m\n\u001b[0;32m    818\u001b[0m             \u001b[38;5;66;03m# attribute \"name\"\u001b[39;00m\n\u001b[1;32m   (...)\u001b[0m\n\u001b[0;32m    824\u001b[0m             copy\u001b[38;5;241m=\u001b[39m_copy,\n\u001b[0;32m    825\u001b[0m         )\n\u001b[0;32m    826\u001b[0m     \u001b[38;5;28;01melse\u001b[39;00m:\n\u001b[1;32m--> 827\u001b[0m         mgr \u001b[38;5;241m=\u001b[39m ndarray_to_mgr(\n\u001b[0;32m    828\u001b[0m             data,\n\u001b[0;32m    829\u001b[0m             index,\n\u001b[0;32m    830\u001b[0m             columns,\n\u001b[0;32m    831\u001b[0m             dtype\u001b[38;5;241m=\u001b[39mdtype,\n\u001b[0;32m    832\u001b[0m             copy\u001b[38;5;241m=\u001b[39mcopy,\n\u001b[0;32m    833\u001b[0m             typ\u001b[38;5;241m=\u001b[39mmanager,\n\u001b[0;32m    834\u001b[0m         )\n\u001b[0;32m    836\u001b[0m \u001b[38;5;66;03m# For data is list-like, or Iterable (will consume into list)\u001b[39;00m\n\u001b[0;32m    837\u001b[0m \u001b[38;5;28;01melif\u001b[39;00m is_list_like(data):\n",
      "File \u001b[1;32m~\\git\\test\\conda_test\\env\\Lib\\site-packages\\pandas\\core\\internals\\construction.py:314\u001b[0m, in \u001b[0;36mndarray_to_mgr\u001b[1;34m(values, index, columns, dtype, copy, typ)\u001b[0m\n\u001b[0;32m    308\u001b[0m     _copy \u001b[38;5;241m=\u001b[39m (\n\u001b[0;32m    309\u001b[0m         copy_on_sanitize\n\u001b[0;32m    310\u001b[0m         \u001b[38;5;28;01mif\u001b[39;00m (dtype \u001b[38;5;129;01mis\u001b[39;00m \u001b[38;5;28;01mNone\u001b[39;00m \u001b[38;5;129;01mor\u001b[39;00m astype_is_view(values\u001b[38;5;241m.\u001b[39mdtype, dtype))\n\u001b[0;32m    311\u001b[0m         \u001b[38;5;28;01melse\u001b[39;00m \u001b[38;5;28;01mFalse\u001b[39;00m\n\u001b[0;32m    312\u001b[0m     )\n\u001b[0;32m    313\u001b[0m     values \u001b[38;5;241m=\u001b[39m np\u001b[38;5;241m.\u001b[39marray(values, copy\u001b[38;5;241m=\u001b[39m_copy)\n\u001b[1;32m--> 314\u001b[0m     values \u001b[38;5;241m=\u001b[39m _ensure_2d(values)\n\u001b[0;32m    316\u001b[0m \u001b[38;5;28;01melse\u001b[39;00m:\n\u001b[0;32m    317\u001b[0m     \u001b[38;5;66;03m# by definition an array here\u001b[39;00m\n\u001b[0;32m    318\u001b[0m     \u001b[38;5;66;03m# the dtypes will be coerced to a single dtype\u001b[39;00m\n\u001b[0;32m    319\u001b[0m     values \u001b[38;5;241m=\u001b[39m _prep_ndarraylike(values, copy\u001b[38;5;241m=\u001b[39mcopy_on_sanitize)\n",
      "File \u001b[1;32m~\\git\\test\\conda_test\\env\\Lib\\site-packages\\pandas\\core\\internals\\construction.py:592\u001b[0m, in \u001b[0;36m_ensure_2d\u001b[1;34m(values)\u001b[0m\n\u001b[0;32m    590\u001b[0m     values \u001b[38;5;241m=\u001b[39m values\u001b[38;5;241m.\u001b[39mreshape((values\u001b[38;5;241m.\u001b[39mshape[\u001b[38;5;241m0\u001b[39m], \u001b[38;5;241m1\u001b[39m))\n\u001b[0;32m    591\u001b[0m \u001b[38;5;28;01melif\u001b[39;00m values\u001b[38;5;241m.\u001b[39mndim \u001b[38;5;241m!=\u001b[39m \u001b[38;5;241m2\u001b[39m:\n\u001b[1;32m--> 592\u001b[0m     \u001b[38;5;28;01mraise\u001b[39;00m \u001b[38;5;167;01mValueError\u001b[39;00m(\u001b[38;5;124mf\u001b[39m\u001b[38;5;124m\"\u001b[39m\u001b[38;5;124mMust pass 2-d input. shape=\u001b[39m\u001b[38;5;132;01m{\u001b[39;00mvalues\u001b[38;5;241m.\u001b[39mshape\u001b[38;5;132;01m}\u001b[39;00m\u001b[38;5;124m\"\u001b[39m)\n\u001b[0;32m    593\u001b[0m \u001b[38;5;28;01mreturn\u001b[39;00m values\n",
      "\u001b[1;31mValueError\u001b[0m: Must pass 2-d input. shape=(2, 3, 4)"
     ]
    }
   ],
   "source": [
    "# This will not work as DataFrame needs a 2d array\n",
    "df = pd.DataFrame(a3)\n",
    "df"
   ]
  },
  {
   "cell_type": "markdown",
   "id": "7c7f861f-27d2-4ff0-a68a-a6dd22eb6ce1",
   "metadata": {},
   "source": [
    "## Create a numpy array\n",
    "### Press shift-tab to get function details"
   ]
  },
  {
   "cell_type": "code",
   "execution_count": null,
   "id": "d127b373-1c89-44f0-9d19-4fc42dad1aa4",
   "metadata": {},
   "outputs": [],
   "source": [
    "a4 = np.array([1, 2, 3])\n",
    "a4"
   ]
  },
  {
   "cell_type": "code",
   "execution_count": null,
   "id": "668b0808-a3ed-4f9d-9bf5-ee0347fc3c78",
   "metadata": {},
   "outputs": [],
   "source": [
    "ones = np.ones((2, 3))\n",
    "ones"
   ]
  },
  {
   "cell_type": "code",
   "execution_count": null,
   "id": "9ce52b34-9d14-4cf9-a0cd-4eae0802cd16",
   "metadata": {},
   "outputs": [],
   "source": [
    "zeros = np.zeros((2, 3))\n",
    "zeros"
   ]
  },
  {
   "cell_type": "code",
   "execution_count": null,
   "id": "3d7b31d0-1f18-4b0f-9885-853cf9f0c714",
   "metadata": {},
   "outputs": [],
   "source": [
    "range_array = np.arange(1, 10, 2)\n",
    "range_array"
   ]
  },
  {
   "cell_type": "code",
   "execution_count": null,
   "id": "47bfc158-e065-49c5-9810-09e4c4a7634d",
   "metadata": {},
   "outputs": [],
   "source": [
    "random_array = np.random.randint(1, 100, (3, 5))\n",
    "random_array"
   ]
  },
  {
   "cell_type": "code",
   "execution_count": null,
   "id": "61b0186f-d743-4807-9341-cb93fdf26f27",
   "metadata": {},
   "outputs": [],
   "source": [
    "print(random_array.size)\n",
    "print(random_array.shape)"
   ]
  },
  {
   "cell_type": "code",
   "execution_count": null,
   "id": "6153be8e-5878-42ae-9cca-85dfdd5bb405",
   "metadata": {},
   "outputs": [],
   "source": [
    "np.random.random((5, 3))"
   ]
  },
  {
   "cell_type": "code",
   "execution_count": null,
   "id": "b1909624-c908-4e53-80a3-ed660a7d4f92",
   "metadata": {},
   "outputs": [],
   "source": [
    "random_array_2 = np.random.rand(5, 3)\n",
    "random_array_2"
   ]
  },
  {
   "cell_type": "code",
   "execution_count": null,
   "id": "af359a17-9429-4e2a-912a-f6e22a71e3d9",
   "metadata": {},
   "outputs": [],
   "source": [
    "random_array_3 = np.random.rand(5, 3, 2)\n",
    "random_array_3"
   ]
  },
  {
   "cell_type": "code",
   "execution_count": null,
   "id": "f667df3b-274c-4a69-958f-094b1120a3cf",
   "metadata": {},
   "outputs": [],
   "source": [
    "random_array_4 = np.random.rand(6, 4, 3)\n",
    "random_array_4"
   ]
  },
  {
   "cell_type": "markdown",
   "id": "e9a7e621-3c70-4be0-b036-f068617dc1e0",
   "metadata": {},
   "source": [
    "## Pseudo-random number generation"
   ]
  },
  {
   "cell_type": "code",
   "execution_count": null,
   "id": "6c971bbb-cbcc-4f86-86e7-27a13d2c432c",
   "metadata": {},
   "outputs": [],
   "source": [
    "np.random.seed(0)\n",
    "random_array_5 = np.random.randint(10, size=(5, 3))\n",
    "random_array_5"
   ]
  },
  {
   "cell_type": "code",
   "execution_count": null,
   "id": "70890be5-f45a-4f1d-bb23-3bb3f737f05c",
   "metadata": {},
   "outputs": [],
   "source": [
    "np.random.seed(10)\n",
    "random_array_6 = np.random.randint(100, size=(6, 4))\n",
    "print(random_array_6)\n",
    "np.unique(random_array_6)"
   ]
  },
  {
   "cell_type": "markdown",
   "id": "a81dacb0-500e-4b6d-95fd-7c6de9a70854",
   "metadata": {},
   "source": [
    "## View arrays / matrices"
   ]
  },
  {
   "cell_type": "code",
   "execution_count": null,
   "id": "1a0d3911-e621-471a-91f0-579509a3bcff",
   "metadata": {},
   "outputs": [],
   "source": [
    "print(random_array_6)\n",
    "print(random_array_6[0])\n",
    "print(random_array_6[0][1])\n",
    "print(random_array_6[0][:2])"
   ]
  },
  {
   "cell_type": "code",
   "execution_count": null,
   "id": "1788a268-11f6-4230-adc3-c74c071d0c3f",
   "metadata": {},
   "outputs": [],
   "source": [
    "np.random.seed(15)\n",
    "random_array_7 = np.random.randint(100, size=(2, 3, 4, 5))\n",
    "random_array_7"
   ]
  },
  {
   "cell_type": "code",
   "execution_count": null,
   "id": "09782d94-eb80-4a03-9c18-dc8fb9c509b2",
   "metadata": {},
   "outputs": [],
   "source": [
    "random_array_7[:, :, :, :1]"
   ]
  },
  {
   "cell_type": "markdown",
   "id": "2dfa9735-da4b-4428-8619-56da1ee8b26c",
   "metadata": {},
   "source": [
    "## Manipulating & Comparing arrays\n",
    "### Arithmetic"
   ]
  },
  {
   "cell_type": "code",
   "execution_count": null,
   "id": "a9941600-3acf-4f56-a232-b079798f5041",
   "metadata": {},
   "outputs": [],
   "source": [
    "a1, ones"
   ]
  },
  {
   "cell_type": "code",
   "execution_count": null,
   "id": "f5fb87ff-59c0-4350-a2d7-fd4739a088a0",
   "metadata": {},
   "outputs": [],
   "source": [
    "a1 + ones"
   ]
  },
  {
   "cell_type": "code",
   "execution_count": null,
   "id": "ee239382-67bd-4812-8d4e-8870332ace4c",
   "metadata": {},
   "outputs": [],
   "source": [
    "a2, a1"
   ]
  },
  {
   "cell_type": "code",
   "execution_count": null,
   "id": "96c00833-1d4c-42bf-a537-3950a0f23123",
   "metadata": {},
   "outputs": [],
   "source": [
    "a1 * a2"
   ]
  },
  {
   "cell_type": "code",
   "execution_count": null,
   "id": "5c573988-a83b-409a-85db-cc70487c5af8",
   "metadata": {},
   "outputs": [],
   "source": [
    "a2, a3"
   ]
  },
  {
   "cell_type": "code",
   "execution_count": null,
   "id": "c0a8c2f7-bb43-403e-abcb-7ea2116b7896",
   "metadata": {},
   "outputs": [],
   "source": [
    "a2.reshape((1, 2, 3))"
   ]
  },
  {
   "cell_type": "code",
   "execution_count": null,
   "id": "1612f5d6-1811-48f7-905b-54b82935aa64",
   "metadata": {},
   "outputs": [],
   "source": [
    "a2.reshape(6)"
   ]
  },
  {
   "cell_type": "code",
   "execution_count": null,
   "id": "82a5d4f2-0b99-4d82-89b9-2a7522a4d4d2",
   "metadata": {},
   "outputs": [],
   "source": [
    "a2.reshape((2, 3, 1))"
   ]
  },
  {
   "cell_type": "code",
   "execution_count": null,
   "id": "e1f1291c-86d5-4112-b8c9-57ecedc71d16",
   "metadata": {},
   "outputs": [],
   "source": [
    "a3.shape"
   ]
  },
  {
   "cell_type": "code",
   "execution_count": null,
   "id": "fcccb1a6-933a-430f-93c9-2f65164ad811",
   "metadata": {},
   "outputs": [],
   "source": [
    "a2.reshape((2, 3, 1)) * a3"
   ]
  },
  {
   "cell_type": "code",
   "execution_count": null,
   "id": "6e58275f-7aad-4e43-8267-29357e4014ee",
   "metadata": {},
   "outputs": [],
   "source": [
    "a2 / a1"
   ]
  },
  {
   "cell_type": "code",
   "execution_count": null,
   "id": "4a33de9b-b535-441b-8db1-402acb7702fc",
   "metadata": {},
   "outputs": [],
   "source": [
    "a2 // a1"
   ]
  },
  {
   "cell_type": "code",
   "execution_count": null,
   "id": "919ae048-fc61-4b8b-b12c-24b1c3b1a85b",
   "metadata": {},
   "outputs": [],
   "source": [
    "np.square(a1)"
   ]
  },
  {
   "cell_type": "code",
   "execution_count": null,
   "id": "b0fddd70-312c-4969-8c8d-c992b3a5d491",
   "metadata": {},
   "outputs": [],
   "source": [
    "np.square(a2)"
   ]
  },
  {
   "cell_type": "code",
   "execution_count": null,
   "id": "ea12f312-d1f0-4ffe-b12a-ed750668fcbb",
   "metadata": {},
   "outputs": [],
   "source": [
    "np.square(a3)"
   ]
  },
  {
   "cell_type": "code",
   "execution_count": null,
   "id": "0b5bc2b8-d502-4a7c-a8ab-daff3b76a083",
   "metadata": {},
   "outputs": [],
   "source": [
    "np.add(a1, ones)"
   ]
  },
  {
   "cell_type": "code",
   "execution_count": null,
   "id": "e6c12174-d7b9-4028-b841-c294626f5724",
   "metadata": {},
   "outputs": [],
   "source": [
    "np.add(a2, ones)"
   ]
  },
  {
   "cell_type": "code",
   "execution_count": null,
   "id": "3bd47f82-efa5-412b-a47e-bdd2bdb40737",
   "metadata": {},
   "outputs": [],
   "source": [
    "np.mod(a1, ones)"
   ]
  },
  {
   "cell_type": "code",
   "execution_count": null,
   "id": "3511ec29-03c7-41a9-9211-c876b467f648",
   "metadata": {},
   "outputs": [],
   "source": [
    "np.mod(a2, ones)"
   ]
  },
  {
   "cell_type": "code",
   "execution_count": null,
   "id": "a11ee796-4ac4-412d-9c9f-9b4b9dd0c382",
   "metadata": {},
   "outputs": [],
   "source": [
    "a2 % 2"
   ]
  },
  {
   "cell_type": "code",
   "execution_count": null,
   "id": "c0002a08-5fe8-44ad-b105-0ac09722c9b9",
   "metadata": {},
   "outputs": [],
   "source": [
    "a1 % 2"
   ]
  },
  {
   "cell_type": "code",
   "execution_count": null,
   "id": "cf3eb9f7-5469-4e04-bf26-88e69bb1e9b0",
   "metadata": {},
   "outputs": [],
   "source": [
    "np.mod(a2, 2)"
   ]
  },
  {
   "cell_type": "code",
   "execution_count": null,
   "id": "94acb5bb-ef2f-43b3-a415-e6b1d9661492",
   "metadata": {},
   "outputs": [],
   "source": [
    "np.mod(a1, 2)"
   ]
  },
  {
   "cell_type": "code",
   "execution_count": null,
   "id": "ad4ef32e-c048-4513-9ab7-5b08fbab2c16",
   "metadata": {},
   "outputs": [],
   "source": [
    "np.exp(a1), np.exp(a2)"
   ]
  },
  {
   "cell_type": "markdown",
   "id": "644e543b-ec42-4edb-adb7-8e22ca343d45",
   "metadata": {},
   "source": [
    "## Aggregation\n",
    "### Performing the same operation on a number of things"
   ]
  },
  {
   "cell_type": "code",
   "execution_count": 18,
   "id": "10a518a0-54f8-45a1-b12e-c8a54d573e10",
   "metadata": {},
   "outputs": [
    {
     "data": {
      "text/plain": [
       "list"
      ]
     },
     "execution_count": 18,
     "metadata": {},
     "output_type": "execute_result"
    }
   ],
   "source": [
    "l1 = [1, 2, 3]\n",
    "type(l1)"
   ]
  },
  {
   "cell_type": "code",
   "execution_count": 20,
   "id": "c381e6c7-1bed-4472-b09a-8e096be8fdb8",
   "metadata": {},
   "outputs": [
    {
     "data": {
      "text/plain": [
       "6"
      ]
     },
     "execution_count": 20,
     "metadata": {},
     "output_type": "execute_result"
    }
   ],
   "source": [
    "# The python way\n",
    "sum(l1)"
   ]
  },
  {
   "cell_type": "code",
   "execution_count": 22,
   "id": "98a3010e-f638-4f46-a1ac-0cc8004bf7a3",
   "metadata": {},
   "outputs": [
    {
     "data": {
      "text/plain": [
       "6"
      ]
     },
     "execution_count": 22,
     "metadata": {},
     "output_type": "execute_result"
    }
   ],
   "source": [
    "sum(a1)"
   ]
  },
  {
   "cell_type": "code",
   "execution_count": 24,
   "id": "a88e95b5-117e-482b-b6e1-944ae3e2e41c",
   "metadata": {},
   "outputs": [
    {
     "data": {
      "text/plain": [
       "6"
      ]
     },
     "execution_count": 24,
     "metadata": {},
     "output_type": "execute_result"
    }
   ],
   "source": [
    "# The numpy way\n",
    "np.sum(a1)"
   ]
  },
  {
   "cell_type": "code",
   "execution_count": 28,
   "id": "a8abdc1f-00d8-4b71-9c5b-db8746b2ad63",
   "metadata": {},
   "outputs": [
    {
     "data": {
      "text/plain": [
       "array([0.57281946, 0.99571914, 0.62590458, 0.83903181, 0.90590832,\n",
       "       0.38958568, 0.7453749 , 0.90213336, 0.593669  , 0.47079553])"
      ]
     },
     "execution_count": 28,
     "metadata": {},
     "output_type": "execute_result"
    }
   ],
   "source": [
    "# Massive array\n",
    "a8 = np.random.random(100000)\n",
    "a8[:10]"
   ]
  },
  {
   "cell_type": "code",
   "execution_count": 29,
   "id": "28d25f74-a47c-45b2-ab4e-ac5267f99253",
   "metadata": {},
   "outputs": [
    {
     "name": "stdout",
     "output_type": "stream",
     "text": [
      "9.37 ms ± 196 μs per loop (mean ± std. dev. of 7 runs, 100 loops each)\n",
      "30.2 μs ± 139 ns per loop (mean ± std. dev. of 7 runs, 10,000 loops each)\n"
     ]
    }
   ],
   "source": [
    "%timeit sum(a8) # Python sum\n",
    "%timeit np.sum(a8) # Numpy sum"
   ]
  },
  {
   "cell_type": "code",
   "execution_count": 33,
   "id": "3e71debe-290c-4e1e-81b8-f6a59759fb86",
   "metadata": {},
   "outputs": [
    {
     "data": {
      "text/plain": [
       "1.8491436639234138e-05"
      ]
     },
     "execution_count": 33,
     "metadata": {},
     "output_type": "execute_result"
    }
   ],
   "source": [
    "np.min(a8)"
   ]
  },
  {
   "cell_type": "code",
   "execution_count": 40,
   "id": "9b10a822-e059-4797-bbe4-d26b42327242",
   "metadata": {},
   "outputs": [
    {
     "data": {
      "text/plain": [
       "0.2885127429433415"
      ]
     },
     "execution_count": 40,
     "metadata": {},
     "output_type": "execute_result"
    }
   ],
   "source": [
    "# Standard Deviation = how spread out a group of numbers is from the mean\n",
    "np.std(a8)"
   ]
  },
  {
   "cell_type": "code",
   "execution_count": 41,
   "id": "6d2df148-4cac-4be2-930b-6fbea6a39e37",
   "metadata": {},
   "outputs": [
    {
     "data": {
      "text/plain": [
       "0.08323960284069064"
      ]
     },
     "execution_count": 41,
     "metadata": {},
     "output_type": "execute_result"
    }
   ],
   "source": [
    "# Variance = the average degree to which each number is different from the mean\n",
    "np.var(a8)"
   ]
  },
  {
   "cell_type": "code",
   "execution_count": 43,
   "id": "61bd500b-08c9-4ca2-bb99-e70acf749e3f",
   "metadata": {},
   "outputs": [
    {
     "data": {
      "text/plain": [
       "0.2885127429433415"
      ]
     },
     "execution_count": 43,
     "metadata": {},
     "output_type": "execute_result"
    }
   ],
   "source": [
    "# Std = sqrt of var\n",
    "np.sqrt(np.var(a8))"
   ]
  },
  {
   "cell_type": "code",
   "execution_count": 44,
   "id": "92f224ba-2f12-46d4-8362-abcf6729c626",
   "metadata": {},
   "outputs": [],
   "source": [
    "hva = np.array([1, 100, 200, 300, 4000, 5000, 10000])\n",
    "lva = np.array([2, 4, 6, 8, 10, 12])"
   ]
  },
  {
   "cell_type": "code",
   "execution_count": 47,
   "id": "f96e4716-7b54-486f-823c-e4e3abee70fa",
   "metadata": {},
   "outputs": [
    {
     "name": "stdout",
     "output_type": "stream",
     "text": [
      "2800.1428571428573\n",
      "7.0\n"
     ]
    }
   ],
   "source": [
    "print(hva.mean())\n",
    "print(lva.mean())"
   ]
  },
  {
   "cell_type": "code",
   "execution_count": 48,
   "id": "fec69f21-be65-4a35-a4ff-31d628ed2a9d",
   "metadata": {},
   "outputs": [
    {
     "name": "stdout",
     "output_type": "stream",
     "text": [
      "12322057.265306124\n",
      "11.666666666666666\n"
     ]
    }
   ],
   "source": [
    "print(hva.var())\n",
    "print(lva.var())"
   ]
  },
  {
   "cell_type": "code",
   "execution_count": 50,
   "id": "5f093b5d-f04e-4a20-a5b4-0e1030218c62",
   "metadata": {},
   "outputs": [
    {
     "data": {
      "text/plain": [
       "(array([4., 0., 0., 1., 1., 0., 0., 0., 0., 1.]),\n",
       " array([1.0000e+00, 1.0009e+03, 2.0008e+03, 3.0007e+03, 4.0006e+03,\n",
       "        5.0005e+03, 6.0004e+03, 7.0003e+03, 8.0002e+03, 9.0001e+03,\n",
       "        1.0000e+04]),\n",
       " <BarContainer object of 10 artists>)"
      ]
     },
     "execution_count": 50,
     "metadata": {},
     "output_type": "execute_result"
    },
    {
     "data": {
      "image/png": "[encoded data removed]",
      "text/plain": [
       "<Figure size 640x480 with 1 Axes>"
      ]
     },
     "metadata": {},
     "output_type": "display_data"
    }
   ],
   "source": [
    "%matplotlib inline\n",
    "import matplotlib.pyplot as plt\n",
    "plt.hist(hva)"
   ]
  },
  {
   "cell_type": "code",
   "execution_count": 51,
   "id": "00416329-82c1-4bc1-b1aa-be15725b0d06",
   "metadata": {},
   "outputs": [
    {
     "data": {
      "text/plain": [
       "(array([1., 0., 1., 0., 1., 0., 1., 0., 1., 1.]),\n",
       " array([ 2.,  3.,  4.,  5.,  6.,  7.,  8.,  9., 10., 11., 12.]),\n",
       " <BarContainer object of 10 artists>)"
      ]
     },
     "execution_count": 51,
     "metadata": {},
     "output_type": "execute_result"
    },
    {
     "data": {
      "image/png": "[encoded data removed]",
      "text/plain": [
       "<Figure size 640x480 with 1 Axes>"
      ]
     },
     "metadata": {},
     "output_type": "display_data"
    }
   ],
   "source": [
    "%matplotlib inline\n",
    "import matplotlib.pyplot as plt\n",
    "plt.hist(lva)"
   ]
  },
  {
   "cell_type": "markdown",
   "id": "1e1e7d30-5930-4fc3-9902-399874762ffc",
   "metadata": {},
   "source": [
    "## Reshape & Transpose"
   ]
  },
  {
   "cell_type": "code",
   "execution_count": 53,
   "id": "7c7030f7-18e4-4681-872a-2bf1e02a9651",
   "metadata": {},
   "outputs": [
    {
     "data": {
      "text/plain": [
       "((2, 3), (2, 3, 4))"
      ]
     },
     "execution_count": 53,
     "metadata": {},
     "output_type": "execute_result"
    }
   ],
   "source": [
    "a2.shape, a3.shape"
   ]
  },
  {
   "cell_type": "code",
   "execution_count": 55,
   "id": "8d1d1394-91ce-4b56-9b07-2f8560e0bd81",
   "metadata": {},
   "outputs": [
    {
     "data": {
      "text/plain": [
       "array([[[  1,   2,   3,   4],\n",
       "        [ 10,  12,  14,  16],\n",
       "        [ 27,  30,  33,  36]],\n",
       "\n",
       "       [[ 52,  56,  60,  64],\n",
       "        [ 85,  90,  95, 100],\n",
       "        [126, 132, 138, 144]]])"
      ]
     },
     "execution_count": 55,
     "metadata": {},
     "output_type": "execute_result"
    }
   ],
   "source": [
    "a2.reshape((2, 3, 1)) * a3"
   ]
  },
  {
   "cell_type": "code",
   "execution_count": 60,
   "id": "2985cd8e-9f84-4126-9adc-cc2fa2af8034",
   "metadata": {},
   "outputs": [
    {
     "data": {
      "text/plain": [
       "(array([[1, 2, 3],\n",
       "        [4, 5, 6]]),\n",
       " array([[1, 4],\n",
       "        [2, 5],\n",
       "        [3, 6]]))"
      ]
     },
     "execution_count": 60,
     "metadata": {},
     "output_type": "execute_result"
    }
   ],
   "source": [
    "# Transpose\n",
    "a2, a2.T"
   ]
  },
  {
   "cell_type": "code",
   "execution_count": 61,
   "id": "82e81e10-7d8b-4c1c-b43c-0cd9da031e8f",
   "metadata": {},
   "outputs": [
    {
     "data": {
      "text/plain": [
       "(array([[[ 1,  2,  3,  4],\n",
       "         [ 5,  6,  7,  8],\n",
       "         [ 9, 10, 11, 12]],\n",
       " \n",
       "        [[13, 14, 15, 16],\n",
       "         [17, 18, 19, 20],\n",
       "         [21, 22, 23, 24]]]),\n",
       " array([[[ 1, 13],\n",
       "         [ 5, 17],\n",
       "         [ 9, 21]],\n",
       " \n",
       "        [[ 2, 14],\n",
       "         [ 6, 18],\n",
       "         [10, 22]],\n",
       " \n",
       "        [[ 3, 15],\n",
       "         [ 7, 19],\n",
       "         [11, 23]],\n",
       " \n",
       "        [[ 4, 16],\n",
       "         [ 8, 20],\n",
       "         [12, 24]]]))"
      ]
     },
     "execution_count": 61,
     "metadata": {},
     "output_type": "execute_result"
    }
   ],
   "source": [
    "a3, a3.T"
   ]
  },
  {
   "cell_type": "markdown",
   "id": "94fa6070-31ea-4ebf-8318-12656530540b",
   "metadata": {},
   "source": [
    "## Dot product"
   ]
  },
  {
   "cell_type": "code",
   "execution_count": 65,
   "id": "99220554-b679-41d2-8b85-07d0a4c55f1e",
   "metadata": {},
   "outputs": [
    {
     "data": {
      "text/plain": [
       "(array([[5, 0, 3],\n",
       "        [3, 7, 9],\n",
       "        [3, 5, 2],\n",
       "        [4, 7, 6],\n",
       "        [8, 8, 1]]),\n",
       " array([[6, 7, 7],\n",
       "        [8, 1, 5],\n",
       "        [9, 8, 9],\n",
       "        [4, 3, 0],\n",
       "        [3, 5, 0]]))"
      ]
     },
     "execution_count": 65,
     "metadata": {},
     "output_type": "execute_result"
    }
   ],
   "source": [
    "np.random.seed(0)\n",
    "a9 = np.random.randint(10, size=(5, 3))\n",
    "a10 = np.random.randint(10, size=(5, 3))\n",
    "a9, a10"
   ]
  },
  {
   "cell_type": "code",
   "execution_count": 66,
   "id": "b41693ef-693b-40a2-af85-8ade8a577367",
   "metadata": {},
   "outputs": [
    {
     "data": {
      "text/plain": [
       "array([[30,  0, 21],\n",
       "       [24,  7, 45],\n",
       "       [27, 40, 18],\n",
       "       [16, 21,  0],\n",
       "       [24, 40,  0]])"
      ]
     },
     "execution_count": 66,
     "metadata": {},
     "output_type": "execute_result"
    }
   ],
   "source": [
    "a9 * a10"
   ]
  },
  {
   "cell_type": "code",
   "execution_count": 70,
   "id": "a941b576-12e3-480b-997c-7ef3e3235428",
   "metadata": {},
   "outputs": [
    {
     "data": {
      "text/plain": [
       "array([[ 51,  55,  72,  20,  15],\n",
       "       [130,  76, 164,  33,  44],\n",
       "       [ 67,  39,  85,  27,  34],\n",
       "       [115,  69, 146,  37,  47],\n",
       "       [111,  77, 145,  56,  64]])"
      ]
     },
     "execution_count": 70,
     "metadata": {},
     "output_type": "execute_result"
    }
   ],
   "source": [
    "a11 = np.dot(a9, a10.T)\n",
    "a11"
   ]
  },
  {
   "cell_type": "markdown",
   "id": "468c43f6-e3dc-40b3-bb52-51598ca98768",
   "metadata": {},
   "source": [
    "## Dot product exercise"
   ]
  },
  {
   "cell_type": "code",
   "execution_count": 71,
   "id": "b0b40144-0fe3-4fa4-8ca9-dcce9e54139a",
   "metadata": {},
   "outputs": [
    {
     "data": {
      "text/plain": [
       "array([[12, 15,  0],\n",
       "       [ 3,  3,  7],\n",
       "       [ 9, 19, 18],\n",
       "       [ 4,  6, 12],\n",
       "       [ 1,  6,  7]])"
      ]
     },
     "execution_count": 71,
     "metadata": {},
     "output_type": "execute_result"
    }
   ],
   "source": [
    "np.random.seed(0)\n",
    "sales_amount = np.random.randint(20, size=(5, 3))\n",
    "sales_amount"
   ]
  },
  {
   "cell_type": "markdown",
   "id": "11142044-2cf0-4962-ad3c-52ede8ba4f58",
   "metadata": {},
   "source": [
    "### Weekly sales dataframe"
   ]
  },
  {
   "cell_type": "code",
   "execution_count": 72,
   "id": "31525bd5-4ee7-4cfb-9dd4-ab3059128d12",
   "metadata": {},
   "outputs": [
    {
     "data": {
      "text/html": [
       "<div>\n",
       "<style scoped>\n",
       "    .dataframe tbody tr th:only-of-type {\n",
       "        vertical-align: middle;\n",
       "    }\n",
       "\n",
       "    .dataframe tbody tr th {\n",
       "        vertical-align: top;\n",
       "    }\n",
       "\n",
       "    .dataframe thead th {\n",
       "        text-align: right;\n",
       "    }\n",
       "</style>\n",
       "<table border=\"1\" class=\"dataframe\">\n",
       "  <thead>\n",
       "    <tr style=\"text-align: right;\">\n",
       "      <th></th>\n",
       "      <th>Almond</th>\n",
       "      <th>Peanut</th>\n",
       "      <th>Cashew</th>\n",
       "    </tr>\n",
       "  </thead>\n",
       "  <tbody>\n",
       "    <tr>\n",
       "      <th>Mon</th>\n",
       "      <td>12</td>\n",
       "      <td>15</td>\n",
       "      <td>0</td>\n",
       "    </tr>\n",
       "    <tr>\n",
       "      <th>Tue</th>\n",
       "      <td>3</td>\n",
       "      <td>3</td>\n",
       "      <td>7</td>\n",
       "    </tr>\n",
       "    <tr>\n",
       "      <th>Wed</th>\n",
       "      <td>9</td>\n",
       "      <td>19</td>\n",
       "      <td>18</td>\n",
       "    </tr>\n",
       "    <tr>\n",
       "      <th>Thu</th>\n",
       "      <td>4</td>\n",
       "      <td>6</td>\n",
       "      <td>12</td>\n",
       "    </tr>\n",
       "    <tr>\n",
       "      <th>Fri</th>\n",
       "      <td>1</td>\n",
       "      <td>6</td>\n",
       "      <td>7</td>\n",
       "    </tr>\n",
       "  </tbody>\n",
       "</table>\n",
       "</div>"
      ],
      "text/plain": [
       "     Almond  Peanut  Cashew\n",
       "Mon      12      15       0\n",
       "Tue       3       3       7\n",
       "Wed       9      19      18\n",
       "Thu       4       6      12\n",
       "Fri       1       6       7"
      ]
     },
     "execution_count": 72,
     "metadata": {},
     "output_type": "execute_result"
    }
   ],
   "source": [
    "weekly_sales = pd.DataFrame(\n",
    "    sales_amount,\n",
    "    index=[\"Mon\", \"Tue\", \"Wed\", \"Thu\", \"Fri\"],\n",
    "    columns=[\"Almond\", \"Peanut\", \"Cashew\"]\n",
    ")\n",
    "weekly_sales"
   ]
  },
  {
   "cell_type": "markdown",
   "id": "bd0d755b-dad1-4fcf-a4a7-81593966b380",
   "metadata": {},
   "source": [
    "### Prices"
   ]
  },
  {
   "cell_type": "code",
   "execution_count": 73,
   "id": "85cac8e7-02b2-4d1d-8f8a-9bcf25927a72",
   "metadata": {},
   "outputs": [
    {
     "data": {
      "text/plain": [
       "array([10,  8, 12])"
      ]
     },
     "execution_count": 73,
     "metadata": {},
     "output_type": "execute_result"
    }
   ],
   "source": [
    "prices = np.array([10, 8, 12])\n",
    "prices"
   ]
  },
  {
   "cell_type": "code",
   "execution_count": 83,
   "id": "61ee1354-c7f7-4733-b943-b21416f28f60",
   "metadata": {},
   "outputs": [
    {
     "name": "stdout",
     "output_type": "stream",
     "text": [
      "(3,)\n",
      "[[10  8 12]]\n"
     ]
    }
   ],
   "source": [
    "print(prices.shape)\n",
    "print(prices.reshape(1, 3))"
   ]
  },
  {
   "cell_type": "code",
   "execution_count": 87,
   "id": "cca811eb-13d4-4e8e-a060-738010529c3a",
   "metadata": {},
   "outputs": [
    {
     "data": {
      "text/html": [
       "<div>\n",
       "<style scoped>\n",
       "    .dataframe tbody tr th:only-of-type {\n",
       "        vertical-align: middle;\n",
       "    }\n",
       "\n",
       "    .dataframe tbody tr th {\n",
       "        vertical-align: top;\n",
       "    }\n",
       "\n",
       "    .dataframe thead th {\n",
       "        text-align: right;\n",
       "    }\n",
       "</style>\n",
       "<table border=\"1\" class=\"dataframe\">\n",
       "  <thead>\n",
       "    <tr style=\"text-align: right;\">\n",
       "      <th></th>\n",
       "      <th>Almond</th>\n",
       "      <th>Peanut</th>\n",
       "      <th>Cashew</th>\n",
       "    </tr>\n",
       "  </thead>\n",
       "  <tbody>\n",
       "    <tr>\n",
       "      <th>Price</th>\n",
       "      <td>10</td>\n",
       "      <td>8</td>\n",
       "      <td>12</td>\n",
       "    </tr>\n",
       "  </tbody>\n",
       "</table>\n",
       "</div>"
      ],
      "text/plain": [
       "       Almond  Peanut  Cashew\n",
       "Price      10       8      12"
      ]
     },
     "execution_count": 87,
     "metadata": {},
     "output_type": "execute_result"
    }
   ],
   "source": [
    "butter_prices = pd.DataFrame(\n",
    "    prices.reshape(1, 3),\n",
    "    index=[\"Price\"],\n",
    "    columns=[\"Almond\", \"Peanut\", \"Cashew\"]\n",
    ")\n",
    "butter_prices"
   ]
  },
  {
   "cell_type": "code",
   "execution_count": 94,
   "id": "c4042c29-5a5d-4f0a-97f7-f8778256d6e9",
   "metadata": {},
   "outputs": [
    {
     "data": {
      "text/plain": [
       "array([240, 138, 458, 232, 142])"
      ]
     },
     "execution_count": 94,
     "metadata": {},
     "output_type": "execute_result"
    }
   ],
   "source": [
    "total_sales = prices.dot(sales_amount.T)\n",
    "total_sales"
   ]
  },
  {
   "cell_type": "code",
   "execution_count": 95,
   "id": "e3a9e0d8-a47e-47d6-9a92-0dce750705d3",
   "metadata": {},
   "outputs": [
    {
     "data": {
      "text/plain": [
       "((1, 3), (5, 3))"
      ]
     },
     "execution_count": 95,
     "metadata": {},
     "output_type": "execute_result"
    }
   ],
   "source": [
    "butter_prices.shape, weekly_sales.shape"
   ]
  },
  {
   "cell_type": "code",
   "execution_count": 96,
   "id": "96abb66b-feb2-4727-98ef-be2c9207d27f",
   "metadata": {},
   "outputs": [
    {
     "data": {
      "text/html": [
       "<div>\n",
       "<style scoped>\n",
       "    .dataframe tbody tr th:only-of-type {\n",
       "        vertical-align: middle;\n",
       "    }\n",
       "\n",
       "    .dataframe tbody tr th {\n",
       "        vertical-align: top;\n",
       "    }\n",
       "\n",
       "    .dataframe thead th {\n",
       "        text-align: right;\n",
       "    }\n",
       "</style>\n",
       "<table border=\"1\" class=\"dataframe\">\n",
       "  <thead>\n",
       "    <tr style=\"text-align: right;\">\n",
       "      <th></th>\n",
       "      <th>Mon</th>\n",
       "      <th>Tue</th>\n",
       "      <th>Wed</th>\n",
       "      <th>Thu</th>\n",
       "      <th>Fri</th>\n",
       "    </tr>\n",
       "  </thead>\n",
       "  <tbody>\n",
       "    <tr>\n",
       "      <th>Price</th>\n",
       "      <td>240</td>\n",
       "      <td>138</td>\n",
       "      <td>458</td>\n",
       "      <td>232</td>\n",
       "      <td>142</td>\n",
       "    </tr>\n",
       "  </tbody>\n",
       "</table>\n",
       "</div>"
      ],
      "text/plain": [
       "       Mon  Tue  Wed  Thu  Fri\n",
       "Price  240  138  458  232  142"
      ]
     },
     "execution_count": 96,
     "metadata": {},
     "output_type": "execute_result"
    }
   ],
   "source": [
    "daily_sales = butter_prices.dot(weekly_sales.T)\n",
    "daily_sales"
   ]
  },
  {
   "cell_type": "code",
   "execution_count": 102,
   "id": "e452753d-332f-4202-9de4-4291a323fe95",
   "metadata": {},
   "outputs": [
    {
     "data": {
      "text/plain": [
       "Mon    240\n",
       "Tue    138\n",
       "Wed    458\n",
       "Thu    232\n",
       "Fri    142\n",
       "Name: Price, dtype: int32"
      ]
     },
     "execution_count": 102,
     "metadata": {},
     "output_type": "execute_result"
    }
   ],
   "source": [
    "daily_sales.T.Price"
   ]
  },
  {
   "cell_type": "code",
   "execution_count": 103,
   "id": "89ee58c7-02cb-4e7d-a1a8-fd32db86fdd1",
   "metadata": {},
   "outputs": [
    {
     "data": {
      "text/html": [
       "<div>\n",
       "<style scoped>\n",
       "    .dataframe tbody tr th:only-of-type {\n",
       "        vertical-align: middle;\n",
       "    }\n",
       "\n",
       "    .dataframe tbody tr th {\n",
       "        vertical-align: top;\n",
       "    }\n",
       "\n",
       "    .dataframe thead th {\n",
       "        text-align: right;\n",
       "    }\n",
       "</style>\n",
       "<table border=\"1\" class=\"dataframe\">\n",
       "  <thead>\n",
       "    <tr style=\"text-align: right;\">\n",
       "      <th></th>\n",
       "      <th>Almond</th>\n",
       "      <th>Peanut</th>\n",
       "      <th>Cashew</th>\n",
       "      <th>Total $</th>\n",
       "    </tr>\n",
       "  </thead>\n",
       "  <tbody>\n",
       "    <tr>\n",
       "      <th>Mon</th>\n",
       "      <td>12</td>\n",
       "      <td>15</td>\n",
       "      <td>0</td>\n",
       "      <td>240</td>\n",
       "    </tr>\n",
       "    <tr>\n",
       "      <th>Tue</th>\n",
       "      <td>3</td>\n",
       "      <td>3</td>\n",
       "      <td>7</td>\n",
       "      <td>138</td>\n",
       "    </tr>\n",
       "    <tr>\n",
       "      <th>Wed</th>\n",
       "      <td>9</td>\n",
       "      <td>19</td>\n",
       "      <td>18</td>\n",
       "      <td>458</td>\n",
       "    </tr>\n",
       "    <tr>\n",
       "      <th>Thu</th>\n",
       "      <td>4</td>\n",
       "      <td>6</td>\n",
       "      <td>12</td>\n",
       "      <td>232</td>\n",
       "    </tr>\n",
       "    <tr>\n",
       "      <th>Fri</th>\n",
       "      <td>1</td>\n",
       "      <td>6</td>\n",
       "      <td>7</td>\n",
       "      <td>142</td>\n",
       "    </tr>\n",
       "  </tbody>\n",
       "</table>\n",
       "</div>"
      ],
      "text/plain": [
       "     Almond  Peanut  Cashew  Total $\n",
       "Mon      12      15       0      240\n",
       "Tue       3       3       7      138\n",
       "Wed       9      19      18      458\n",
       "Thu       4       6      12      232\n",
       "Fri       1       6       7      142"
      ]
     },
     "execution_count": 103,
     "metadata": {},
     "output_type": "execute_result"
    }
   ],
   "source": [
    "weekly_sales[\"Total $\"] = daily_sales.T.Price\n",
    "weekly_sales"
   ]
  },
  {
   "cell_type": "markdown",
   "id": "a25094dd-9f55-46b9-95d8-697bbc1f2ada",
   "metadata": {},
   "source": [
    "## Comparison Operators"
   ]
  },
  {
   "cell_type": "code",
   "execution_count": 104,
   "id": "37609b0d-17b2-436e-8a35-ca7d6d930dc5",
   "metadata": {},
   "outputs": [
    {
     "data": {
      "text/plain": [
       "array([[False, False, False],\n",
       "       [False, False, False]])"
      ]
     },
     "execution_count": 104,
     "metadata": {},
     "output_type": "execute_result"
    }
   ],
   "source": [
    "a1 > a2"
   ]
  },
  {
   "cell_type": "code",
   "execution_count": 105,
   "id": "e350c6e5-2188-4f0d-b0c5-1797e3346d23",
   "metadata": {},
   "outputs": [
    {
     "data": {
      "text/plain": [
       "array([[False, False, False],\n",
       "       [ True,  True,  True]])"
      ]
     },
     "execution_count": 105,
     "metadata": {},
     "output_type": "execute_result"
    }
   ],
   "source": [
    "a1 < a2"
   ]
  },
  {
   "cell_type": "code",
   "execution_count": 106,
   "id": "3107b0b9-2281-4426-8a6b-141dbb07ba51",
   "metadata": {},
   "outputs": [
    {
     "data": {
      "text/plain": [
       "array([[ True,  True,  True],\n",
       "       [False, False, False]])"
      ]
     },
     "execution_count": 106,
     "metadata": {},
     "output_type": "execute_result"
    }
   ],
   "source": [
    "a1 == a2"
   ]
  },
  {
   "cell_type": "code",
   "execution_count": 107,
   "id": "22d93e4a-a23b-4c2e-8a80-1aee804a8b5a",
   "metadata": {},
   "outputs": [
    {
     "data": {
      "text/plain": [
       "array([False, False, False])"
      ]
     },
     "execution_count": 107,
     "metadata": {},
     "output_type": "execute_result"
    }
   ],
   "source": [
    "a1 > 5"
   ]
  },
  {
   "cell_type": "markdown",
   "id": "88292cce-c772-42ff-90c1-5afbf3cd8dca",
   "metadata": {},
   "source": [
    "## Sort arrays"
   ]
  },
  {
   "cell_type": "code",
   "execution_count": 2,
   "id": "f02f04d5-c657-4fd2-a3e5-3094350f3529",
   "metadata": {},
   "outputs": [
    {
     "data": {
      "text/plain": [
       "array([[9, 9, 8, 6, 0],\n",
       "       [5, 9, 5, 2, 9],\n",
       "       [5, 4, 9, 4, 2]])"
      ]
     },
     "execution_count": 2,
     "metadata": {},
     "output_type": "execute_result"
    }
   ],
   "source": [
    "import numpy as np\n",
    "ar1 = np.random.randint(10, size=(3, 5))\n",
    "ar1"
   ]
  },
  {
   "cell_type": "code",
   "execution_count": 3,
   "id": "7930fbac-1f84-47c0-b667-20dca2951ba2",
   "metadata": {},
   "outputs": [
    {
     "data": {
      "text/plain": [
       "array([[0, 6, 8, 9, 9],\n",
       "       [2, 5, 5, 9, 9],\n",
       "       [2, 4, 4, 5, 9]])"
      ]
     },
     "execution_count": 3,
     "metadata": {},
     "output_type": "execute_result"
    }
   ],
   "source": [
    "np.sort(ar1)"
   ]
  },
  {
   "cell_type": "code",
   "execution_count": 4,
   "id": "833dfab7-ae9a-41fa-9bfd-7e814d8e158d",
   "metadata": {},
   "outputs": [
    {
     "data": {
      "text/plain": [
       "array([[4, 3, 2, 0, 1],\n",
       "       [3, 0, 2, 1, 4],\n",
       "       [4, 1, 3, 0, 2]], dtype=int64)"
      ]
     },
     "execution_count": 4,
     "metadata": {},
     "output_type": "execute_result"
    }
   ],
   "source": [
    "np.argsort(ar1)"
   ]
  },
  {
   "cell_type": "code",
   "execution_count": 6,
   "id": "c5188a1b-4989-43db-981a-1f9b5139f116",
   "metadata": {},
   "outputs": [
    {
     "data": {
      "text/plain": [
       "4"
      ]
     },
     "execution_count": 6,
     "metadata": {},
     "output_type": "execute_result"
    }
   ],
   "source": [
    "np.argmin(ar1)"
   ]
  },
  {
   "cell_type": "code",
   "execution_count": 9,
   "id": "95f04703-40d5-4fb0-8d3d-0fc6e5ac3af1",
   "metadata": {},
   "outputs": [
    {
     "data": {
      "text/plain": [
       "array([0, 0, 2, 0, 1], dtype=int64)"
      ]
     },
     "execution_count": 9,
     "metadata": {},
     "output_type": "execute_result"
    }
   ],
   "source": [
    "np.argmax(ar1, axis=0)"
   ]
  },
  {
   "cell_type": "code",
   "execution_count": 10,
   "id": "3c5fd97c-e976-4455-b531-3ef1ef9f3fab",
   "metadata": {},
   "outputs": [
    {
     "data": {
      "text/plain": [
       "array([0, 1, 2], dtype=int64)"
      ]
     },
     "execution_count": 10,
     "metadata": {},
     "output_type": "execute_result"
    }
   ],
   "source": [
    "np.argmax(ar1, axis=1)"
   ]
  },
  {
   "cell_type": "markdown",
   "id": "3265b070-c6f6-44fa-a62d-08a945ce3469",
   "metadata": {},
   "source": [
    "## Numpy example"
   ]
  },
  {
   "cell_type": "markdown",
   "id": "5d0526f7-f469-45e2-ab92-f20b109743c9",
   "metadata": {},
   "source": [
    "### Simple panda png image conversion to numpy array\n",
    "<img src=\"images/panda.png\">"
   ]
  },
  {
   "cell_type": "code",
   "execution_count": 12,
   "id": "dbd3a0c7-e60b-47fa-b469-f186f6828903",
   "metadata": {},
   "outputs": [],
   "source": [
    "from matplotlib.image import imread"
   ]
  },
  {
   "cell_type": "code",
   "execution_count": 14,
   "id": "23e67cfa-c92f-4ced-8905-017e1e7b0b34",
   "metadata": {},
   "outputs": [
    {
     "data": {
      "text/plain": [
       "array([[[0., 0., 0., 0.],\n",
       "        [0., 0., 0., 0.],\n",
       "        [0., 0., 0., 0.],\n",
       "        ...,\n",
       "        [0., 0., 0., 0.],\n",
       "        [0., 0., 0., 0.],\n",
       "        [0., 0., 0., 0.]],\n",
       "\n",
       "       [[0., 0., 0., 0.],\n",
       "        [0., 0., 0., 0.],\n",
       "        [0., 0., 0., 0.],\n",
       "        ...,\n",
       "        [0., 0., 0., 0.],\n",
       "        [0., 0., 0., 0.],\n",
       "        [0., 0., 0., 0.]],\n",
       "\n",
       "       [[0., 0., 0., 0.],\n",
       "        [0., 0., 0., 0.],\n",
       "        [0., 0., 0., 0.],\n",
       "        ...,\n",
       "        [0., 0., 0., 0.],\n",
       "        [0., 0., 0., 0.],\n",
       "        [0., 0., 0., 0.]],\n",
       "\n",
       "       ...,\n",
       "\n",
       "       [[0., 0., 0., 0.],\n",
       "        [0., 0., 0., 0.],\n",
       "        [0., 0., 0., 0.],\n",
       "        ...,\n",
       "        [0., 0., 0., 0.],\n",
       "        [0., 0., 0., 0.],\n",
       "        [0., 0., 0., 0.]],\n",
       "\n",
       "       [[0., 0., 0., 0.],\n",
       "        [0., 0., 0., 0.],\n",
       "        [0., 0., 0., 0.],\n",
       "        ...,\n",
       "        [0., 0., 0., 0.],\n",
       "        [0., 0., 0., 0.],\n",
       "        [0., 0., 0., 0.]],\n",
       "\n",
       "       [[0., 0., 0., 0.],\n",
       "        [0., 0., 0., 0.],\n",
       "        [0., 0., 0., 0.],\n",
       "        ...,\n",
       "        [0., 0., 0., 0.],\n",
       "        [0., 0., 0., 0.],\n",
       "        [0., 0., 0., 0.]]], dtype=float32)"
      ]
     },
     "execution_count": 14,
     "metadata": {},
     "output_type": "execute_result"
    }
   ],
   "source": [
    "panda = imread(\"images/panda.png\", format=\"png\")\n",
    "panda"
   ]
  },
  {
   "cell_type": "code",
   "execution_count": 15,
   "id": "d6aae2b4-243d-454c-9929-0594ecaa95c6",
   "metadata": {},
   "outputs": [
    {
     "data": {
      "text/plain": [
       "array([[[1.       , 1.       , 1.       , 1.       ],\n",
       "        [1.       , 1.       , 1.       , 1.       ],\n",
       "        [1.       , 1.       , 1.       , 1.       ],\n",
       "        ...,\n",
       "        [0.9019608, 0.9019608, 0.9019608, 1.       ],\n",
       "        [0.9019608, 0.9019608, 0.9019608, 1.       ],\n",
       "        [0.9019608, 0.9019608, 0.9019608, 1.       ]],\n",
       "\n",
       "       [[1.       , 1.       , 1.       , 1.       ],\n",
       "        [1.       , 1.       , 1.       , 1.       ],\n",
       "        [1.       , 1.       , 1.       , 1.       ],\n",
       "        ...,\n",
       "        [0.9019608, 0.9019608, 0.9019608, 1.       ],\n",
       "        [0.9019608, 0.9019608, 0.9019608, 1.       ],\n",
       "        [0.9019608, 0.9019608, 0.9019608, 1.       ]],\n",
       "\n",
       "       [[1.       , 1.       , 1.       , 1.       ],\n",
       "        [1.       , 1.       , 1.       , 1.       ],\n",
       "        [1.       , 1.       , 1.       , 1.       ],\n",
       "        ...,\n",
       "        [0.9019608, 0.9019608, 0.9019608, 1.       ],\n",
       "        [0.9019608, 0.9019608, 0.9019608, 1.       ],\n",
       "        [0.9019608, 0.9019608, 0.9019608, 1.       ]],\n",
       "\n",
       "       ...,\n",
       "\n",
       "       [[0.9019608, 0.9019608, 0.9019608, 1.       ],\n",
       "        [0.9019608, 0.9019608, 0.9019608, 1.       ],\n",
       "        [0.9019608, 0.9019608, 0.9019608, 1.       ],\n",
       "        ...,\n",
       "        [1.       , 1.       , 1.       , 1.       ],\n",
       "        [1.       , 1.       , 1.       , 1.       ],\n",
       "        [1.       , 1.       , 1.       , 1.       ]],\n",
       "\n",
       "       [[0.9019608, 0.9019608, 0.9019608, 1.       ],\n",
       "        [0.9019608, 0.9019608, 0.9019608, 1.       ],\n",
       "        [0.9019608, 0.9019608, 0.9019608, 1.       ],\n",
       "        ...,\n",
       "        [1.       , 1.       , 1.       , 1.       ],\n",
       "        [1.       , 1.       , 1.       , 1.       ],\n",
       "        [1.       , 1.       , 1.       , 1.       ]],\n",
       "\n",
       "       [[0.9019608, 0.9019608, 0.9019608, 1.       ],\n",
       "        [0.9019608, 0.9019608, 0.9019608, 1.       ],\n",
       "        [0.9019608, 0.9019608, 0.9019608, 1.       ],\n",
       "        ...,\n",
       "        [1.       , 1.       , 1.       , 1.       ],\n",
       "        [1.       , 1.       , 1.       , 1.       ],\n",
       "        [1.       , 1.       , 1.       , 1.       ]]], dtype=float32)"
      ]
     },
     "execution_count": 15,
     "metadata": {},
     "output_type": "execute_result"
    }
   ],
   "source": [
    "dog = imread(\"images/dog.png\", format=\"png\")\n",
    "dog"
   ]
  },
  {
   "cell_type": "code",
   "execution_count": 16,
   "id": "52489808-a52b-434b-9827-41344dec259d",
   "metadata": {},
   "outputs": [
    {
     "data": {
      "text/plain": [
       "(518400, (360, 360, 4), 3)"
      ]
     },
     "execution_count": 16,
     "metadata": {},
     "output_type": "execute_result"
    }
   ],
   "source": [
    "panda.size, panda.shape, panda.ndim"
   ]
  },
  {
   "cell_type": "code",
   "execution_count": 17,
   "id": "4390bcbf-893c-487a-9ad4-e62e05be633c",
   "metadata": {},
   "outputs": [
    {
     "data": {
      "text/plain": [
       "(3727840, (1013, 920, 4), 3)"
      ]
     },
     "execution_count": 17,
     "metadata": {},
     "output_type": "execute_result"
    }
   ],
   "source": [
    "dog.size, dog.shape, dog.ndim"
   ]
  },
  {
   "cell_type": "code",
   "execution_count": 21,
   "id": "1b56900d-c39d-46a2-a3d5-4f7efde9ec17",
   "metadata": {},
   "outputs": [
    {
     "data": {
      "text/plain": [
       "array([  1.,  12.,  23.,  34.,  45.,  56.,  67.,  78.,  89., 100.])"
      ]
     },
     "execution_count": 21,
     "metadata": {},
     "output_type": "execute_result"
    }
   ],
   "source": [
    "np.linspace(1, 100, 10)"
   ]
  },
  {
   "cell_type": "code",
   "execution_count": null,
   "id": "a87e825c-11cf-4734-a069-2d19cc8fb1c8",
   "metadata": {},
   "outputs": [],
   "source": []
  }
 ],
 "metadata": {
  "kernelspec": {
   "display_name": "Python 3 (ipykernel)",
   "language": "python",
   "name": "python3"
  },
  "language_info": {
   "codemirror_mode": {
    "name": "ipython",
    "version": 3
   },
   "file_extension": ".py",
   "mimetype": "text/x-python",
   "name": "python",
   "nbconvert_exporter": "python",
   "pygments_lexer": "ipython3",
   "version": "3.12.3"
  }
 },
 "nbformat": 4,
 "nbformat_minor": 5
}
